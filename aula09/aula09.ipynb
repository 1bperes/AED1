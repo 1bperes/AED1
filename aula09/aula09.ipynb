{
 "cells": [
  {
   "cell_type": "code",
   "execution_count": 1,
   "id": "7bd4271c-13be-4aae-a8f4-9599a722db09",
   "metadata": {},
   "outputs": [
    {
     "name": "stdout",
     "output_type": "stream",
     "text": [
      "Olá, Ana\n",
      "Olá, Pedro\n",
      "Olá, Bruno\n",
      "Olá, Maria\n"
     ]
    }
   ],
   "source": [
    "#Primeiro Exemplo\n",
    "\n",
    "alunos = ['Ana' , 'Pedro' , 'Bruno' , 'Maria']\n",
    "for nome in alunos:\n",
    "    print(\"Olá,\" , nome)"
   ]
  },
  {
   "cell_type": "code",
   "execution_count": 9,
   "id": "035710bd-f3a2-40c2-8f09-10977d5fd2a8",
   "metadata": {},
   "outputs": [
    {
     "name": "stdout",
     "output_type": "stream",
     "text": [
      "O(a) estudante Ana teve nota 9!\n",
      "O(a) estudante Pedro teve nota 3.5!\n",
      "O(a) estudante Maria teve nota 6!\n"
     ]
    }
   ],
   "source": [
    "#Segundo Exemplo\n",
    "\n",
    "alunos = ['Ana' , 'Pedro' , 'Maria']\n",
    "nota = [9 , 3.5 , 6]\n",
    "\n",
    "for i in range(len(alunos)):\n",
    "    print(f\"O(a) estudante {alunos[i]} teve nota {nota[i]}!\")"
   ]
  },
  {
   "cell_type": "code",
   "execution_count": null,
   "id": "a6dc995f-b018-490b-ac5e-c5de39597a9c",
   "metadata": {},
   "outputs": [],
   "source": []
  }
 ],
 "metadata": {
  "kernelspec": {
   "display_name": "Python [conda env:base] *",
   "language": "python",
   "name": "conda-base-py"
  },
  "language_info": {
   "codemirror_mode": {
    "name": "ipython",
    "version": 3
   },
   "file_extension": ".py",
   "mimetype": "text/x-python",
   "name": "python",
   "nbconvert_exporter": "python",
   "pygments_lexer": "ipython3",
   "version": "3.12.7"
  }
 },
 "nbformat": 4,
 "nbformat_minor": 5
}
