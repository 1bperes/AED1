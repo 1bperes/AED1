{
 "cells": [
  {
   "cell_type": "code",
   "execution_count": 1,
   "id": "a2574648-de11-4b2b-9e69-f21510d35cae",
   "metadata": {},
   "outputs": [
    {
     "name": "stdin",
     "output_type": "stream",
     "text": [
      "Digite seu nome:  Humberto\n",
      "Digite sua idade:  27\n"
     ]
    },
    {
     "name": "stdout",
     "output_type": "stream",
     "text": [
      "Humberto tem 27 anos!\n"
     ]
    }
   ],
   "source": [
    "#Exercício 0\n",
    "nome = input(\"Digite seu nome: \")\n",
    "idade = input (\"Digite sua idade: \")\n",
    "print (nome , \"tem\" , idade , \"anos!\")"
   ]
  },
  {
   "cell_type": "code",
   "execution_count": 10,
   "id": "967f570d-540b-470e-857c-a5489a4b8249",
   "metadata": {},
   "outputs": [
    {
     "name": "stdin",
     "output_type": "stream",
     "text": [
      "Digite um valor: 8\n",
      "Digite um valor: 6\n"
     ]
    },
    {
     "name": "stdout",
     "output_type": "stream",
     "text": [
      "O resultado da soma deu: 14\n"
     ]
    }
   ],
   "source": [
    "x = int (input (\"Digite um valor:\"))\n",
    "y = int (input (\"Digite um valor:\"))\n",
    "print (\"O resultado da soma deu:\" , x+y)"
   ]
  },
  {
   "cell_type": "code",
   "execution_count": 9,
   "id": "3820aa4f-c615-4152-91f0-581c7e7d153e",
   "metadata": {},
   "outputs": [
    {
     "name": "stdin",
     "output_type": "stream",
     "text": [
      "Digite seu nome: Bkas\n"
     ]
    },
    {
     "name": "stdout",
     "output_type": "stream",
     "text": [
      "Tenha um bom dia Bkas !\n"
     ]
    }
   ],
   "source": [
    "#Exercicio 1\n",
    "nome = input(\"Digite seu nome:\")\n",
    "print (\"Tenha um bom dia\" , nome , \"!\")"
   ]
  },
  {
   "cell_type": "code",
   "execution_count": 2,
   "id": "7e647b2a-55bb-4c0c-bf79-48317ca90815",
   "metadata": {},
   "outputs": [
    {
     "name": "stdin",
     "output_type": "stream",
     "text": [
      "Digite o ano em que você nasceu: 1962\n",
      "Digite o ano em que estamos: 2025\n"
     ]
    },
    {
     "name": "stdout",
     "output_type": "stream",
     "text": [
      "Você tem 22995 dias\n",
      "Você tem 3276 semanas\n",
      "Voce tem 756 meses\n",
      "Voce tem 63 anos\n"
     ]
    }
   ],
   "source": [
    "#Exercicio 2\n",
    "ano_nasc = int (input(\"Digite o ano em que você nasceu:\"))\n",
    "ano_atual = int (input(\"Digite o ano em que estamos:\"))\n",
    "print (\"Você tem\" , (ano_atual - ano_nasc) * 365 , \"dias\")\n",
    "print (\"Você tem\" , (ano_atual - ano_nasc) * 52 , \"semanas\")\n",
    "print (\"Voce tem\" , (ano_atual - ano_nasc) * 12 , \"meses\")\n",
    "print (\"Voce tem\" , (ano_atual - ano_nasc) , \"anos\")\n"
   ]
  },
  {
   "cell_type": "code",
   "execution_count": 7,
   "id": "5d9326c9-0622-4f8d-8761-d0186a0fb6f7",
   "metadata": {},
   "outputs": [
    {
     "name": "stdin",
     "output_type": "stream",
     "text": [
      "Digite seu salario: 200\n"
     ]
    },
    {
     "name": "stdout",
     "output_type": "stream",
     "text": [
      "O novo salario é: 250.0\n"
     ]
    }
   ],
   "source": [
    "#Exercicio 3\n",
    "salario = int(input(\"Digite seu salario:\"))\n",
    "aumento = float(1.25)\n",
    "novo_salario = salario * aumento\n",
    "print (\"O novo salario é:\" , novo_salario)"
   ]
  },
  {
   "cell_type": "code",
   "execution_count": 9,
   "id": "7dd37761-b8c4-4272-ae8a-dab28e400bcb",
   "metadata": {},
   "outputs": [
    {
     "name": "stdin",
     "output_type": "stream",
     "text": [
      "Digite seu salario: 100\n",
      "Digite seu aumento: 1.75\n"
     ]
    },
    {
     "name": "stdout",
     "output_type": "stream",
     "text": [
      "O seu novo salario é: 175.0\n"
     ]
    }
   ],
   "source": [
    "#Exercicio 4\n",
    "salario = int(input(\"Digite seu salario:\"))\n",
    "aumento = float(input(\"Digite seu aumento:\"))\n",
    "novo_salario = salario * aumento\n",
    "print (\"O seu novo salario é:\" , novo_salario)"
   ]
  },
  {
   "cell_type": "code",
   "execution_count": 13,
   "id": "2fb14d9e-61bb-4fb0-98ba-12b5f6b22aae",
   "metadata": {},
   "outputs": [
    {
     "name": "stdout",
     "output_type": "stream",
     "text": [
      "1050.0\n"
     ]
    }
   ],
   "source": [
    "#Exercicio 5\n",
    "deposito = 1000\n",
    "juros = 5\n",
    "rendimento = deposito * (juros / 100)\n",
    "valor_total = deposito + rendimento\n",
    "print (valor_total)"
   ]
  },
  {
   "cell_type": "code",
   "execution_count": 15,
   "id": "86cf5406-4c14-4cbc-b096-ea4eb6271841",
   "metadata": {},
   "outputs": [
    {
     "name": "stdin",
     "output_type": "stream",
     "text": [
      "Digite a altura: 10\n",
      "Digite a base: 10\n"
     ]
    },
    {
     "name": "stdout",
     "output_type": "stream",
     "text": [
      "A area do seu triangulo é 50.0\n"
     ]
    }
   ],
   "source": [
    "#Exercicio 6\n",
    "altura = int(input(\"Digite a altura:\"))\n",
    "base = int(input(\"Digite a base:\"))\n",
    "area = base * altura / 2\n",
    "print (\"A area do seu triangulo é\" , area)"
   ]
  },
  {
   "cell_type": "code",
   "execution_count": 17,
   "id": "3a26d3e5-15df-433a-8a80-51845177ac20",
   "metadata": {},
   "outputs": [
    {
     "name": "stdin",
     "output_type": "stream",
     "text": [
      "Digite o raio do círculo: 10\n"
     ]
    },
    {
     "name": "stdout",
     "output_type": "stream",
     "text": [
      "O raio do seu círculo é 314.15000000000003\n"
     ]
    }
   ],
   "source": [
    "#Exercicio 7\n",
    "pi = float (3.1415)\n",
    "raio = int(input(\"Digite o raio do círculo:\"))\n",
    "area = pi * raio**2\n",
    "print (\"O raio do seu círculo é\" , area)"
   ]
  },
  {
   "cell_type": "code",
   "execution_count": 2,
   "id": "262d80a1-89ee-4959-b88b-a1201da24c40",
   "metadata": {},
   "outputs": [
    {
     "name": "stdin",
     "output_type": "stream",
     "text": [
      "Digite a distancia em pés 40\n"
     ]
    },
    {
     "name": "stdout",
     "output_type": "stream",
     "text": [
      "Polegadas: 480\n",
      "Jardas: 1440\n",
      "Milhas: 2534400\n"
     ]
    }
   ],
   "source": [
    "#Exercicio 8\n",
    "pe = 12\n",
    "jarda = 3 * pe\n",
    "milha = 1760 * jarda\n",
    "\n",
    "distancia_pe = int(input(\"Digite a distancia em pés\"))\n",
    "resultado_polegada = distancia_pe * pe\n",
    "resultado_jarda = distancia_pe * jarda\n",
    "resultado_milha = distancia_pe * milha\n",
    "\n",
    "print (\"Polegadas:\" , resultado_polegada)\n",
    "print (\"Jardas:\" , resultado_jarda)\n",
    "print (\"Milhas:\" , resultado_milha)"
   ]
  },
  {
   "cell_type": "code",
   "execution_count": 1,
   "id": "25614822-7fb6-422f-aef7-8d8ad8fabe36",
   "metadata": {},
   "outputs": [
    {
     "name": "stdin",
     "output_type": "stream",
     "text": [
      "Digite a altura de cada degrau em cm: 15\n",
      "Digite a altura que você quer subir em metros: 6\n"
     ]
    },
    {
     "name": "stdout",
     "output_type": "stream",
     "text": [
      "Você terá que subir 40 degraus.\n"
     ]
    }
   ],
   "source": [
    "#Exercicio 9\n",
    "altura_degrau_cm = float(input(\"Digite a altura de cada degrau em cm:\"))\n",
    "altura_escada_m = float(input(\"Digite a altura que você quer subir em metros:\"))\n",
    "\n",
    "altura_escada_cm = altura_escada_m * 100\n",
    "\n",
    "numero_degraus = altura_escada_cm / altura_degrau_cm\n",
    "\n",
    "print(\"Você terá que subir\", int(numero_degraus), \"degraus.\")"
   ]
  },
  {
   "cell_type": "code",
   "execution_count": null,
   "id": "0f1c6d22-39be-420e-991f-43af52390a16",
   "metadata": {},
   "outputs": [],
   "source": []
  }
 ],
 "metadata": {
  "kernelspec": {
   "display_name": "Python 3 (ipykernel)",
   "language": "python",
   "name": "python3"
  },
  "language_info": {
   "codemirror_mode": {
    "name": "ipython",
    "version": 3
   },
   "file_extension": ".py",
   "mimetype": "text/x-python",
   "name": "python",
   "nbconvert_exporter": "python",
   "pygments_lexer": "ipython3",
   "version": "3.13.5"
  }
 },
 "nbformat": 4,
 "nbformat_minor": 5
}
