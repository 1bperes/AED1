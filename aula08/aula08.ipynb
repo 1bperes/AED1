{
 "cells": [
  {
   "cell_type": "markdown",
   "id": "207fc129-4eaf-4b48-b006-dbfdd83a100e",
   "metadata": {},
   "source": [
    "# Desenvolvimento de um Jogo de Advinhação de Números!\n",
    "   \n",
    "## Como ele deve funcionar?\n",
    "    \n",
    "- O jogador deve entrar com um número de 1 a 100\n",
    "- O computador irá sortear aleatoriamente um desses números"
   ]
  },
  {
   "cell_type": "code",
   "execution_count": null,
   "id": "0185a492-6eb1-4fc9-a896-90a233613d16",
   "metadata": {},
   "outputs": [],
   "source": [
    "import random\n",
    "\n",
    "n_secreto = random.randint (1, 101)\n",
    "tentativa_total = 0\n",
    "dif = \"\"\n",
    "\n",
    "while dif != \"F\" or dif != \"M\" or dif != \"D\":\n",
    "    dif = input (\"Escolha sua dificuldade \\n\" \"[F] Fácil \\n\" \"[M] Médio \\n\" \"[D] Difícil \\n\").upper()\n",
    "\n",
    "    if dif == \"F\":\n",
    "        tentativa_total = 15\n",
    "        break\n",
    "    elif dif ==  \"M\":\n",
    "        tentativa_total = 10\n",
    "        break\n",
    "    elif dif == \"D\":\n",
    "        tentativa_toal = 5\n",
    "        break\n",
    "    else:\n",
    "        print (\"Insira um valor válido\")\n",
    "\n",
    "for rod in range (1, tentativa_total +1):\n",
    "    print (\"Tentativas\" , str(rod), \"de\" , str(tentativa_total))\n",
    "    n_esc = int(input(\"Estou pensando em um número de 1 a 100:\"))\n",
    "    print (\"Você digitou\" , str(n_esc))\n",
    "\n",
    "    if n_esc <1 or n_esc > 100:\n",
    "        print (\"NÚMERO INVALIDO!!!\")\n",
    "        continue\n",
    "    acerto = n_esc == n_secreto\n",
    "    maior = n_esc > n_secreto\n",
    "    menor = n_esc < n_secreto\n",
    "\n",
    "    if acerto:\n",
    "        print (\"Você advinhou!!! UHUUL 🥳🥳🥳\")\n",
    "        break\n",
    "    else:\n",
    "        if maior:\n",
    "            print (\"A resposta está E....rrada, estou pensando num número menor :(\")\n",
    "        if menor:\n",
    "            print (\"Errou :( , pensei num número maior\")\n",
    "\n",
    "\n",
    "print (\"Fim de jogo!\")\n"
   ]
  },
  {
   "cell_type": "code",
   "execution_count": null,
   "id": "40234c6f-0d1f-4a07-ba20-f1f335eadbeb",
   "metadata": {},
   "outputs": [],
   "source": []
  }
 ],
 "metadata": {
  "kernelspec": {
   "display_name": "Python [conda env:base] *",
   "language": "python",
   "name": "conda-base-py"
  },
  "language_info": {
   "codemirror_mode": {
    "name": "ipython",
    "version": 3
   },
   "file_extension": ".py",
   "mimetype": "text/x-python",
   "name": "python",
   "nbconvert_exporter": "python",
   "pygments_lexer": "ipython3",
   "version": "3.12.7"
  }
 },
 "nbformat": 4,
 "nbformat_minor": 5
}
