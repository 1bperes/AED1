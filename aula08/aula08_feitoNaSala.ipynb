{
 "cells": [
  {
   "cell_type": "markdown",
   "id": "a84e4f29-73fc-4111-81b7-b6830a8961e2",
   "metadata": {},
   "source": [
    "# Desenvolvimento de um Jogo de Advinhação de Números!\n",
    "   \n",
    "## Como ele deve funcionar?\n",
    "    \n",
    "- O jogador deve entrar com um número de 1 a 100.\n",
    "- O computador irá sortear aleatoriamente um desses números.\n",
    "- Enquanto a tentativa estiver errada, dar feedback \"maior\" ou \"menor\" e pedir nova tentativa.\n",
    "- Se acertar, parabenizar e encerrar o desafio."
   ]
  },
  {
   "cell_type": "code",
   "execution_count": null,
   "id": "3a2d4ef4-9354-461d-bff2-7e17e6cad231",
   "metadata": {},
   "outputs": [
    {
     "name": "stdin",
     "output_type": "stream",
     "text": [
      "Escolha a dificuldade \n",
      "[1] Facil \n",
      "[2] Medio \n",
      "[3] Difícil \n",
      " 1\n"
     ]
    },
    {
     "name": "stdout",
     "output_type": "stream",
     "text": [
      "Tentativas 1 de 22\n"
     ]
    },
    {
     "name": "stdin",
     "output_type": "stream",
     "text": [
      "Digite um número de 1 a 75: 75\n"
     ]
    },
    {
     "name": "stdout",
     "output_type": "stream",
     "text": [
      "Você digitou: 75\n",
      "Você errou, seu numero foi maior 😭😭😭\n",
      "Tentativas 2 de 22\n"
     ]
    }
   ],
   "source": [
    "from random import randint\n",
    " \n",
    "numero_secreto = randint(1,76)\n",
    " \n",
    "tentativas_totais = 0\n",
    " \n",
    "dificuldade = 0\n",
    " \n",
    "while True:\n",
    "    while dificuldade != 1 or dificuldade != 2 or dificuldade != 3:\n",
    "        dificuldade = int(input(\"Escolha a dificuldade \\n\" \"[1] Facil \\n\" \"[2] Medio \\n\" \"[3] Difícil \\n\"))\n",
    "        if dificuldade == 1:\n",
    "            tentativas_totais = 22\n",
    "            break\n",
    "        elif dificuldade == 2:\n",
    "            tentativas_totais = 12\n",
    "            break\n",
    "        elif dificuldade == 3:\n",
    "            tentativas_totais = 7\n",
    "            break\n",
    "        else:\n",
    "            print (\"favor inserir um valor correto\")\n",
    "    for rodadas in range (1, tentativas_totais + 1):\n",
    "        print(\"Tentativas\", str(rodadas), \"de\", str(tentativas_totais))\n",
    "        valor_escolhido = int(input(\"Digite um número de 1 a 75:\"))\n",
    "        print(\"Você digitou:\", str(valor_escolhido))\n",
    "        if valor_escolhido < 1 or valor_escolhido > 75:\n",
    "            print(\"Número invalido!\")\n",
    "            continue\n",
    "        acerto = valor_escolhido == numero_secreto\n",
    "        maior = valor_escolhido > numero_secreto\n",
    "        menor = valor_escolhido < numero_secreto\n",
    "        if acerto:\n",
    "            print(\"Parabensssss, você acertou o número secreto!!! 🥳🥳🥳\")\n",
    "            break\n",
    "        else:\n",
    "            if maior:\n",
    "                print(\"Você errou, seu numero foi maior 😭😭😭\")\n",
    "            elif menor:\n",
    "                print(\"Você errou, seu numero foi menor 😭😭😭\")\n",
    " \n",
    "    \n",
    "    continuar = input(\"Deseja continuar? [S/N]\")\n",
    "    if continuar == \"S\":\n",
    "        continue\n",
    "    elif continuar == \"N\":\n",
    "        break\n",
    "    else:\n",
    "        print (\"favor insira um valor correto\")\n",
    "\n",
    " \n",
    "print (\"fim de jogo\")"
   ]
  },
  {
   "cell_type": "code",
   "execution_count": null,
   "id": "6590ffe8-85ca-48d8-96ca-441dbc87d160",
   "metadata": {},
   "outputs": [],
   "source": []
  }
 ],
 "metadata": {
  "kernelspec": {
   "display_name": "Python [conda env:base] *",
   "language": "python",
   "name": "conda-base-py"
  },
  "language_info": {
   "codemirror_mode": {
    "name": "ipython",
    "version": 3
   },
   "file_extension": ".py",
   "mimetype": "text/x-python",
   "name": "python",
   "nbconvert_exporter": "python",
   "pygments_lexer": "ipython3",
   "version": "3.12.7"
  }
 },
 "nbformat": 4,
 "nbformat_minor": 5
}
