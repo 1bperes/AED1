{
 "cells": [
  {
   "cell_type": "code",
   "execution_count": 3,
   "id": "d223d720-7d09-4adc-b97c-5237e32f7ecc",
   "metadata": {},
   "outputs": [
    {
     "name": "stdout",
     "output_type": "stream",
     "text": [
      "10\n",
      "9\n",
      "8\n",
      "7\n",
      "6\n",
      "5\n",
      "4\n",
      "3\n",
      "2\n",
      "1\n",
      "0\n",
      "FIM!\n"
     ]
    }
   ],
   "source": [
    "#Contagem regressiva de 10 a 1\n",
    "for i in range(10, 0, -1):\n",
    "    print(i)\n",
    "print(\"FIM!\")"
   ]
  },
  {
   "cell_type": "code",
   "execution_count": 13,
   "id": "538236fd-94f0-4007-95c7-de8c458bdeb1",
   "metadata": {},
   "outputs": [
    {
     "name": "stdin",
     "output_type": "stream",
     "text": [
      "Digite um numero: 7\n"
     ]
    },
    {
     "name": "stdout",
     "output_type": "stream",
     "text": [
      "O fatorial de 7 é igual a 5040\n"
     ]
    }
   ],
   "source": [
    "n = int(input(\"Digite um numero:\"))\n",
    "fatorial = 1\n",
    "if n < 0:\n",
    "    print(\"Fatorial não existe\")\n",
    "elif n == 0:\n",
    "    print(\"Fatorial de 0 é igual a 1\")\n",
    "else:\n",
    "    for i in range(1, n+1):\n",
    "        fatorial = fatorial * i\n",
    "    print(\"O fatorial de\" , n , \"é igual a\" , fatorial)\n"
   ]
  },
  {
   "cell_type": "code",
   "execution_count": 37,
   "id": "e79e0a63-16ce-424d-8278-002d41766824",
   "metadata": {},
   "outputs": [
    {
     "name": "stdin",
     "output_type": "stream",
     "text": [
      "Digite o valor de n: 7\n"
     ]
    },
    {
     "name": "stdout",
     "output_type": "stream",
     "text": [
      "O valor de E é 254\n"
     ]
    }
   ],
   "source": [
    "#Exercicio 1 com For\n",
    "\n",
    "n = int(input(\"Digite o valor de n:\"))\n",
    "E = 0\n",
    "\n",
    "for i in range (1, n+1):\n",
    "    E = E + (2 ** i)\n",
    "\n",
    "print (\"O valor de E é\" , E)\n",
    "        "
   ]
  },
  {
   "cell_type": "code",
   "execution_count": 29,
   "id": "f8c59fee-4eaf-49b8-bdd8-15199d3e9c01",
   "metadata": {},
   "outputs": [
    {
     "name": "stdin",
     "output_type": "stream",
     "text": [
      "Digite o valor de n: 2\n"
     ]
    },
    {
     "name": "stdout",
     "output_type": "stream",
     "text": [
      "O valor de E é 6\n"
     ]
    }
   ],
   "source": [
    "#Exercicio 1 com While\n",
    "\n",
    "n = int(input(\"Digite o valor de n:\"))\n",
    "E = 0\n",
    "i = 1\n",
    "\n",
    "while i <= n:\n",
    "    E = E + (2**i)\n",
    "    i = i + 1\n",
    "\n",
    "print(\"O valor de E é\" , E)"
   ]
  },
  {
   "cell_type": "code",
   "execution_count": 43,
   "id": "fb58cbed-48a4-4293-b496-90a5dacdd3f7",
   "metadata": {},
   "outputs": [
    {
     "name": "stdout",
     "output_type": "stream",
     "text": [
      "A soma dos primeiros 50 números pares é: 2550\n"
     ]
    }
   ],
   "source": [
    "#Exercicio 2 com For\n",
    "soma = 0\n",
    "for i in range(1, 51):\n",
    "  soma = soma + (i * 2)\n",
    "\n",
    "print(\"A soma dos primeiros 50 números pares é:\", soma)"
   ]
  },
  {
   "cell_type": "code",
   "execution_count": 45,
   "id": "89039541-817d-431c-831d-8022eeb15be3",
   "metadata": {},
   "outputs": [
    {
     "name": "stdout",
     "output_type": "stream",
     "text": [
      "Soma dos 50 primeiros números pares: 2550\n"
     ]
    }
   ],
   "source": [
    "#Exercicio 2 com While\n",
    "soma = 0\n",
    "contador = 1\n",
    "numero = 2\n",
    "\n",
    "while contador <= 50:\n",
    "    soma += numero\n",
    "    numero += 2\n",
    "    contador += 1\n",
    "\n",
    "print(\"Soma dos 50 primeiros números pares:\", soma)"
   ]
  },
  {
   "cell_type": "code",
   "execution_count": 49,
   "id": "cef61fc0-cb7b-4d3a-b2b5-69d9b51cbdbd",
   "metadata": {},
   "outputs": [
    {
     "name": "stdin",
     "output_type": "stream",
     "text": [
      "Digite seu peso:  60\n",
      "Digite sua altura:  1.80\n",
      "Digite seu peso:  75\n",
      "Digite sua altura:  1.90\n",
      "Digite seu peso:  66\n",
      "Digite sua altura:  1.50\n",
      "Digite seu peso:  50\n",
      "Digite sua altura:  1.75\n",
      "Digite seu peso:  42\n",
      "Digite sua altura:  1.62\n"
     ]
    },
    {
     "name": "stdout",
     "output_type": "stream",
     "text": [
      "Peso medio: 58.6\n",
      "Altura media: 1.714\n",
      "Maior IMC: 29.333333333333332\n",
      "Menor IMC: 16.00365797896662\n"
     ]
    }
   ],
   "source": [
    "#Exercicio 3 com For\n",
    "\n",
    "soma_peso = 0\n",
    "soma_altura = 0\n",
    "\n",
    "maior_imc = 0\n",
    "menor_imc = 0\n",
    "\n",
    "for i in range(5):\n",
    "    peso = float(input(\"Digite seu peso: \"))\n",
    "    altura = float(input(\"Digite sua altura: \"))\n",
    "    imc = peso / (altura * altura)\n",
    "\n",
    "    soma_peso = soma_peso + peso\n",
    "    soma_altura = soma_altura + altura\n",
    "    \n",
    "    if i == 0:\n",
    "        maior_imc = imc\n",
    "        menor_imc = imc\n",
    "    else:\n",
    "        if imc > maior_imc:\n",
    "            maior_imc = imc\n",
    "        if imc < menor_imc:\n",
    "            menor_imc = imc\n",
    "\n",
    "print(\"Peso medio:\", soma_peso / 5)\n",
    "print(\"Altura media:\", soma_altura / 5)\n",
    "print(\"Maior IMC:\", maior_imc)\n",
    "print(\"Menor IMC:\", menor_imc)"
   ]
  },
  {
   "cell_type": "code",
   "execution_count": 54,
   "id": "25920248-92ec-4f46-b21d-d60b09b059d2",
   "metadata": {},
   "outputs": [
    {
     "name": "stdin",
     "output_type": "stream",
     "text": [
      "Digite seu peso:  100\n",
      "Digite sua altura:  2.00\n",
      "Digite seu peso:  55\n",
      "Digite sua altura:  1.755\n",
      "Digite seu peso:  20\n",
      "Digite sua altura:  1.20\n",
      "Digite seu peso:  58\n",
      "Digite sua altura:  1.68\n",
      "Digite seu peso:  83\n",
      "Digite sua altura:  1.83\n"
     ]
    },
    {
     "name": "stdout",
     "output_type": "stream",
     "text": [
      "Peso medio: 63.2\n",
      "Altura media: 1.693\n",
      "Maior IMC: 25.0\n",
      "Menor IMC: 13.88888888888889\n"
     ]
    }
   ],
   "source": [
    "#Exercicio 3 com While\n",
    "soma_peso = 0\n",
    "soma_altura = 0\n",
    "maior_imc = 0\n",
    "menor_imc = 0\n",
    "contador = 0\n",
    "\n",
    "while contador < 5:\n",
    "    peso = float(input(\"Digite seu peso: \"))\n",
    "    altura = float(input(\"Digite sua altura: \"))\n",
    "    imc = peso / (altura * altura)\n",
    "\n",
    "    soma_peso = soma_peso + peso\n",
    "    soma_altura = soma_altura + altura\n",
    "\n",
    "    if contador == 0:\n",
    "        maior_imc = imc\n",
    "        menor_imc = imc\n",
    "    else:\n",
    "        if imc > maior_imc:\n",
    "            maior_imc = imc\n",
    "        if imc < menor_imc:\n",
    "            menor_imc = imc\n",
    "    \n",
    "    contador = contador + 1\n",
    "\n",
    "print(\"Peso medio:\", soma_peso / 5)\n",
    "print(\"Altura media:\", soma_altura / 5)\n",
    "print(\"Maior IMC:\", maior_imc)\n",
    "print(\"Menor IMC:\", menor_imc)"
   ]
  },
  {
   "cell_type": "code",
   "execution_count": null,
   "id": "1312122e-a68f-4511-968b-814dc5a9fdd2",
   "metadata": {},
   "outputs": [],
   "source": []
  },
  {
   "cell_type": "code",
   "execution_count": null,
   "id": "3d45cf1c-b453-4420-b0c6-a32f29060e2c",
   "metadata": {},
   "outputs": [],
   "source": []
  },
  {
   "cell_type": "code",
   "execution_count": null,
   "id": "7e4cf4b8-d4db-407d-b94f-46f3f9506fbc",
   "metadata": {},
   "outputs": [],
   "source": []
  },
  {
   "cell_type": "code",
   "execution_count": null,
   "id": "c9f06570-8dc1-4c50-97c2-2bda23084fe6",
   "metadata": {},
   "outputs": [],
   "source": []
  },
  {
   "cell_type": "code",
   "execution_count": null,
   "id": "14de871f-898d-41c7-a2ae-41f63f8e4557",
   "metadata": {},
   "outputs": [],
   "source": []
  }
 ],
 "metadata": {
  "kernelspec": {
   "display_name": "Python [conda env:base] *",
   "language": "python",
   "name": "conda-base-py"
  },
  "language_info": {
   "codemirror_mode": {
    "name": "ipython",
    "version": 3
   },
   "file_extension": ".py",
   "mimetype": "text/x-python",
   "name": "python",
   "nbconvert_exporter": "python",
   "pygments_lexer": "ipython3",
   "version": "3.12.7"
  }
 },
 "nbformat": 4,
 "nbformat_minor": 5
}
